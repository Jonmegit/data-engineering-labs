{
 "cells": [
  {
   "cell_type": "markdown",
   "id": "2a98a4a0",
   "metadata": {},
   "source": [
    "# Ejemplo básico de ETL con Pandas\n",
    "\n",
    "En este notebook se muestra un flujo sencillo de extracción, transformación y carga (ETL) utilizando la biblioteca Pandas."
   ]
  },
  {
   "cell_type": "markdown",
   "id": "6d63aeab",
   "metadata": {},
   "source": [
    "## 1. Extracción\n",
    "\n",
    "Para este ejemplo crearemos un pequeño dataset sintético que represente ventas de productos. En un escenario real, esta fase implicaría leer datos de un archivo CSV, una base de datos o una API."
   ]
  },
  {
   "cell_type": "code",
   "execution_count": null,
   "id": "cb3a595c",
   "metadata": {},
   "outputs": [],
   "source": [
    "import pandas as pd\n",
    "\n",
    "# Generar datos de ejemplo\n",
    "data = {\n",
    "    'producto': ['A', 'B', 'C', 'A', 'B', 'C', 'A'],\n",
    "    'precio': [10.0, 15.5, 7.25, 10.0, 15.5, 7.25, 10.0],\n",
    "    'unidades': [5, 3, 4, 2, 5, 3, 4],\n",
    "    'fecha': pd.to_datetime(['2025-01-01','2025-01-02','2025-01-02','2025-01-03','2025-01-03','2025-01-04','2025-01-04'])\n",
    "}\n",
    "\n",
    "df = pd.DataFrame(data)\n",
    "\n",
    "# Mostrar el dataset original\n",
    "df"
   ]
  },
  {
   "cell_type": "markdown",
   "id": "ab0db7a7",
   "metadata": {},
   "source": [
    "## 2. Transformación\n",
    "\n",
    "En esta fase aplicamos reglas de negocio para limpiar y enriquecer los datos. Aquí:\n",
    "\n",
    "- Calculamos el importe total (`total`) multiplicando precio por unidades.\n",
    "- Eliminamos duplicados si los hubiera.\n",
    "- Convertimos la columna `fecha` a índice para posibles análisis temporales."
   ]
  },
  {
   "cell_type": "code",
   "execution_count": null,
   "id": "6ef46bdb",
   "metadata": {},
   "outputs": [],
   "source": [
    "# Calcular columna total\n",
    "df['total'] = df['precio'] * df['unidades']\n",
    "\n",
    "# Eliminar duplicados\n",
    "df = df.drop_duplicates()\n",
    "\n",
    "# Establecer la fecha como índice\n",
    "df = df.set_index('fecha')\n",
    "\n",
    "# Visualizar datos transformados\n",
    "df"
   ]
  },
  {
   "cell_type": "markdown",
   "id": "ec02f77e",
   "metadata": {},
   "source": [
    "## 3. Carga\n",
    "\n",
    "La última etapa consiste en guardar los datos transformados en un formato eficiente. Aquí los guardamos como archivo Parquet."
   ]
  },
  {
   "cell_type": "code",
   "execution_count": null,
   "id": "4404d5ea",
   "metadata": {},
   "outputs": [],
   "source": [
    "# Guardar como archivo Parquet\n",
    "output_path = os.path.join('data', 'ventas.parquet')\n",
    "\n",
    "df.to_parquet(output_path)\n",
    "\n",
    "print(f'Datos guardados en: {output_path}')"
   ]
  },
  {
   "cell_type": "code",
   "execution_count": null,
   "id": "f7fd16a1",
   "metadata": {},
   "outputs": [],
   "source": [
    "# Comprobar el archivo Parquet guardado\n",
    "import os\n",
    "os.path.isfile(output_path), os.path.getsize(output_path)"
   ]
  },
  {
   "cell_type": "markdown",
   "id": "cfec09b9",
   "metadata": {},
   "source": [
    "## Conclusión\n",
    "\n",
    "Hemos construido un sencillo flujo ETL que genera datos, aplica transformaciones básicas y los almacena en un archivo Parquet. Este flujo se puede adaptar para procesar datos reales procedentes de distintas fuentes y aplicar reglas más complejas según las necesidades de la empresa."
   ]
  }
 ],
 "metadata": {},
 "nbformat": 4,
 "nbformat_minor": 5
}
